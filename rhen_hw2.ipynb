{
 "cells": [
  {
   "cell_type": "markdown",
   "metadata": {
    "Collapsed": "false"
   },
   "source": [
    "## Homework 2\n",
    "\n",
    "Using Python for Excel type tasks"
   ]
  },
  {
   "cell_type": "markdown",
   "metadata": {
    "Collapsed": "false"
   },
   "source": [
    "## Import some libraries"
   ]
  },
  {
   "cell_type": "code",
   "execution_count": 48,
   "metadata": {
    "Collapsed": "false"
   },
   "outputs": [
    {
     "name": "stdout",
     "output_type": "stream",
     "text": [
      "The autoreload extension is already loaded. To reload it, use:\n",
      "  %reload_ext autoreload\n"
     ]
    }
   ],
   "source": [
    "# To auto-reload modules in jupyter notebook (so that changes in files *.py doesn't require manual reloading):\n",
    "# https://stackoverflow.com/questions/5364050/reloading-submodules-in-ipython\n",
    "%load_ext autoreload\n",
    "%autoreload 2"
   ]
  },
  {
   "cell_type": "markdown",
   "metadata": {
    "Collapsed": "false"
   },
   "source": [
    "Import commonly used libraries and magic command for inline plotting"
   ]
  },
  {
   "cell_type": "code",
   "execution_count": 49,
   "metadata": {
    "Collapsed": "false"
   },
   "outputs": [],
   "source": [
    "import copy\n",
    "\n",
    "import numpy as np\n",
    "import pandas as pd\n",
    "import matplotlib.pyplot as plt\n",
    "from mpl_toolkits.mplot3d import Axes3D\n",
    "import seaborn as sns\n"
   ]
  },
  {
   "cell_type": "code",
   "execution_count": 50,
   "metadata": {
    "tags": []
   },
   "outputs": [],
   "source": [
    "%matplotlib inline"
   ]
  },
  {
   "cell_type": "markdown",
   "metadata": {},
   "source": [
    "Now I am going to import 'Model' and 'get_sim_results_df' from the provided whatif.py file"
   ]
  },
  {
   "cell_type": "code",
   "execution_count": 51,
   "metadata": {},
   "outputs": [],
   "source": [
    "from whatif import Model\n",
    "from whatif import get_sim_results_df"
   ]
  },
  {
   "cell_type": "markdown",
   "metadata": {
    "Collapsed": "false"
   },
   "source": [
    "# Analysis 1 – Basic Break Even Analysis\n",
    "\n",
    "The owner of a relatively small business is trying to determine the breakeven level of sales of the company’s single product.  The fixed cost of manufacturing this product each month is \\\\$60,000.00.  The variable cost of producing this product is \\\\$90 per unit.  The current selling price is \\\\$120.  Using historical data on selling price and monthly demand, the owner fit the following function relating demand and selling price:\n",
    "\n",
    "Selling Price Function (SPF)\n",
    "D=10,000,000S^(-1.8)\n",
    "\n",
    "where D is the monthly demand for the product and S is the selling price.  The form of this function is called a power function. So, if we increase our selling price, we believe demand will decrease. Similarly, a decrease in selling price suggests an increase in demand. Let’s call this equation the Selling Price Function (or SPF, for short).\n",
    "\n"
   ]
  },
  {
   "cell_type": "markdown",
   "metadata": {
    "Collapsed": "false"
   },
   "source": [
    "## Base Model\n",
    "Create a Python based model to that relates profit to the inputs. It must be an object oriented model. Here's the start of our class definition code:"
   ]
  },
  {
   "cell_type": "markdown",
   "metadata": {},
   "source": [
    "Based on the initial information given above, our variables can be defined as follows:"
   ]
  },
  {
   "cell_type": "code",
   "execution_count": 52,
   "metadata": {
    "tags": []
   },
   "outputs": [],
   "source": [
    "# Set the base inputs\n",
    "fixed_cost = 60000\n",
    "var_cost = 90\n",
    "selling_price = 120\n",
    "spf_scale = 10000000\n",
    "spf_exponent = -1.8"
   ]
  },
  {
   "cell_type": "markdown",
   "metadata": {},
   "source": [
    "Here's the start of our class definition code:"
   ]
  },
  {
   "cell_type": "code",
   "execution_count": 53,
   "metadata": {},
   "outputs": [],
   "source": [
    "class SingleProductSPF(Model):\n",
    "    def __init__(self, fixed_cost, var_cost, selling_price,\n",
    "                spf_scale, spf_exponent):\n",
    "        self.fixed_cost = fixed_cost\n",
    "        self.var_cost = var_cost\n",
    "        self.selling_price = selling_price\n",
    "        self.spf_scale = spf_scale\n",
    "        self.spf_exponent = spf_exponent\n",
    "        "
   ]
  },
  {
   "cell_type": "code",
   "execution_count": 54,
   "metadata": {},
   "outputs": [],
   "source": [
    "# Create a new SingleProductSPFModel object\n",
    "model_1 = SingleProductSPF(fixed_cost, var_cost, selling_price, spf_scale, spf_exponent)"
   ]
  },
  {
   "cell_type": "markdown",
   "metadata": {},
   "source": [
    "Let's try printing out one of the model properties to make sure we are on track..."
   ]
  },
  {
   "cell_type": "code",
   "execution_count": 55,
   "metadata": {},
   "outputs": [
    {
     "name": "stdout",
     "output_type": "stream",
     "text": [
      "60000\n"
     ]
    }
   ],
   "source": [
    "print(model_1.fixed_cost)"
   ]
  },
  {
   "cell_type": "markdown",
   "metadata": {
    "tags": []
   },
   "source": [
    "So far, so good.  Now I am going to add some methods to my model that compute profit and demand"
   ]
  },
  {
   "cell_type": "code",
   "execution_count": 56,
   "metadata": {},
   "outputs": [],
   "source": [
    "class SingleProductSPF(Model):\n",
    "    def __init__(self, fixed_cost, var_cost, selling_price,\n",
    "                spf_scale, spf_exponent):\n",
    "        self.fixed_cost = fixed_cost\n",
    "        self.var_cost = var_cost\n",
    "        self.selling_price = selling_price\n",
    "        self.spf_scale = spf_scale\n",
    "        self.spf_exponent = spf_exponent\n",
    "        \n",
    "    def demand(self):\n",
    "        \"\"\"Compute demand\"\"\"\n",
    "        return self.spf_scale * (self.selling_price ** self.spf_exponent)\n",
    "    \n",
    "    def revenue(self):\n",
    "        \"\"\"Compute revenue\"\"\"\n",
    "        return self.demand() * self.selling_price\n",
    "    \n",
    "    def costs(self):\n",
    "        \"\"\"Compute total of fixed and variable costs\"\"\"\n",
    "        return (self.demand() * self.var_cost) + self.fixed_cost   \n",
    "    \n",
    "    def profit(self):\n",
    "        \"\"\"Compute profit\"\"\"\n",
    "        return self.revenue() - self.costs()\n",
    "    \n",
    "    def __str__(self):\n",
    "        \"\"\"\n",
    "        String representation of SingleProductSPF's inputs\n",
    "        \"\"\"\n",
    "        return str(vars(self))\n",
    "\n",
    "        "
   ]
  },
  {
   "cell_type": "markdown",
   "metadata": {},
   "source": [
    "I'm going to create a new object instance based on the updated class definition."
   ]
  },
  {
   "cell_type": "code",
   "execution_count": 57,
   "metadata": {},
   "outputs": [],
   "source": [
    "model_2 = SingleProductSPF(fixed_cost, var_cost, selling_price, spf_scale, spf_exponent)"
   ]
  },
  {
   "cell_type": "code",
   "execution_count": 58,
   "metadata": {},
   "outputs": [
    {
     "name": "stdout",
     "output_type": "stream",
     "text": [
      "1809.146586595383\n",
      "-5725.602402138524\n"
     ]
    }
   ],
   "source": [
    "print(model_2.demand())\n",
    "print(model_2.profit())"
   ]
  },
  {
   "cell_type": "markdown",
   "metadata": {},
   "source": [
    "Ok, so far, so good.  Although I have to admit I was a little stumped by needing those ()'s for the methods and not for the properties.\n",
    "\n",
    "We can also remind ourself of the properties used with the following:"
   ]
  },
  {
   "cell_type": "code",
   "execution_count": 59,
   "metadata": {},
   "outputs": [
    {
     "name": "stdout",
     "output_type": "stream",
     "text": [
      "{'fixed_cost': 60000, 'var_cost': 90, 'selling_price': 120, 'spf_scale': 10000000, 'spf_exponent': -1.8}\n"
     ]
    }
   ],
   "source": [
    "print(model_2)"
   ]
  },
  {
   "cell_type": "markdown",
   "metadata": {},
   "source": [
    "## 1-Way Data Table\n",
    "Create a one-way data table using our data_table function to show how profit and demand are related to selling price."
   ]
  },
  {
   "cell_type": "markdown",
   "metadata": {},
   "source": [
    "Profit and demand are the outputs and selling price is the input. Let price range from 90 to 190 in steps of 10."
   ]
  },
  {
   "cell_type": "code",
   "execution_count": 60,
   "metadata": {},
   "outputs": [
    {
     "data": {
      "text/plain": [
       "array([ 90, 100, 110, 120, 130, 140, 150, 160, 170, 180, 190])"
      ]
     },
     "execution_count": 60,
     "metadata": {},
     "output_type": "execute_result"
    }
   ],
   "source": [
    "# Set property equal to an array\n",
    "model_2.selling_price = np.arange(90, 191, 10)\n",
    "model_2.selling_price"
   ]
  },
  {
   "cell_type": "markdown",
   "metadata": {},
   "source": [
    "We can compute an array of profits..."
   ]
  },
  {
   "cell_type": "code",
   "execution_count": 61,
   "metadata": {
    "tags": []
   },
   "outputs": [
    {
     "data": {
      "text/plain": [
       "array([-60000.        , -34881.1356849 , -17682.19213811,  -5725.60240214,\n",
       "         2655.89776817,   8539.28035168,  12641.86473138,  15453.96586116,\n",
       "        17318.23446585,  18478.73612485,  19112.2102885 ])"
      ]
     },
     "execution_count": 61,
     "metadata": {},
     "output_type": "execute_result"
    }
   ],
   "source": [
    "model_2.profit()"
   ]
  },
  {
   "cell_type": "markdown",
   "metadata": {},
   "source": [
    "We can use the data_table function to create a dataframe of profit outputs for every selling_price input\n",
    "\n",
    "We can also call up this function from whatif.py, as it was built in as part of our model\n",
    "\n",
    "Following I have done both...  (just for good practice)"
   ]
  },
  {
   "cell_type": "code",
   "execution_count": 62,
   "metadata": {},
   "outputs": [],
   "source": [
    "from sklearn.model_selection._search import ParameterGrid"
   ]
  },
  {
   "cell_type": "code",
   "execution_count": 63,
   "metadata": {
    "tags": []
   },
   "outputs": [],
   "source": [
    "def data_table(model, scenario_inputs, outputs):\n",
    "    '''Create n-inputs by m-outputs data table. \n",
    "\n",
    "    Parameters\n",
    "    ----------\n",
    "    model : object\n",
    "        User defined object containing the appropriate methods and properties for computing outputs from inputs\n",
    "    scenario_inputs : dict of str to sequence\n",
    "        Keys are input variable names and values are sequence of values for each scenario for this variable.\n",
    "    outputs : list of str\n",
    "        List of output variable names\n",
    "\n",
    "    Returns\n",
    "    -------\n",
    "    results_df : pandas DataFrame\n",
    "        Contains values of all outputs for every combination of scenario inputs\n",
    "    '''\n",
    "\n",
    "    # Clone the model using deepcopy\n",
    "    model_clone = copy.deepcopy(model)\n",
    "    \n",
    "    # Create parameter grid\n",
    "    dt_param_grid = list(ParameterGrid(scenario_inputs))\n",
    "    \n",
    "    # Create the table as a list of dictionaries\n",
    "    results = []\n",
    "\n",
    "    # Loop over the scenarios\n",
    "    for params in dt_param_grid:\n",
    "        # Update the model clone with scenario specific values\n",
    "        model_clone.update(params)\n",
    "        # Create a result dictionary based on a copy of the scenario inputs\n",
    "        result = copy.copy(params)\n",
    "        # Loop over the list of requested outputs\n",
    "        for output in outputs:\n",
    "            # Compute the output.\n",
    "            out_val = getattr(model_clone, output)()\n",
    "            # Add the output to the result dictionary\n",
    "            result[output] = out_val\n",
    "        \n",
    "        # Append the result dictionary to the results list\n",
    "        results.append(result)\n",
    "\n",
    "    # Convert the results list (of dictionaries) to a pandas DataFrame and return it\n",
    "    results_df = pd.DataFrame(results)\n",
    "    return results_df"
   ]
  },
  {
   "cell_type": "code",
   "execution_count": 64,
   "metadata": {
    "tags": []
   },
   "outputs": [
    {
     "data": {
      "text/html": [
       "<div>\n",
       "<style scoped>\n",
       "    .dataframe tbody tr th:only-of-type {\n",
       "        vertical-align: middle;\n",
       "    }\n",
       "\n",
       "    .dataframe tbody tr th {\n",
       "        vertical-align: top;\n",
       "    }\n",
       "\n",
       "    .dataframe thead th {\n",
       "        text-align: right;\n",
       "    }\n",
       "</style>\n",
       "<table border=\"1\" class=\"dataframe\">\n",
       "  <thead>\n",
       "    <tr style=\"text-align: right;\">\n",
       "      <th></th>\n",
       "      <th>selling_price</th>\n",
       "      <th>demand</th>\n",
       "      <th>profit</th>\n",
       "    </tr>\n",
       "  </thead>\n",
       "  <tbody>\n",
       "    <tr>\n",
       "      <th>0</th>\n",
       "      <td>90</td>\n",
       "      <td>3036.431464</td>\n",
       "      <td>-60000.000000</td>\n",
       "    </tr>\n",
       "    <tr>\n",
       "      <th>1</th>\n",
       "      <td>100</td>\n",
       "      <td>2511.886432</td>\n",
       "      <td>-34881.135685</td>\n",
       "    </tr>\n",
       "    <tr>\n",
       "      <th>2</th>\n",
       "      <td>110</td>\n",
       "      <td>2115.890393</td>\n",
       "      <td>-17682.192138</td>\n",
       "    </tr>\n",
       "    <tr>\n",
       "      <th>3</th>\n",
       "      <td>120</td>\n",
       "      <td>1809.146587</td>\n",
       "      <td>-5725.602402</td>\n",
       "    </tr>\n",
       "    <tr>\n",
       "      <th>4</th>\n",
       "      <td>130</td>\n",
       "      <td>1566.397444</td>\n",
       "      <td>2655.897768</td>\n",
       "    </tr>\n",
       "    <tr>\n",
       "      <th>5</th>\n",
       "      <td>140</td>\n",
       "      <td>1370.785607</td>\n",
       "      <td>8539.280352</td>\n",
       "    </tr>\n",
       "    <tr>\n",
       "      <th>6</th>\n",
       "      <td>150</td>\n",
       "      <td>1210.697746</td>\n",
       "      <td>12641.864731</td>\n",
       "    </tr>\n",
       "    <tr>\n",
       "      <th>7</th>\n",
       "      <td>160</td>\n",
       "      <td>1077.913798</td>\n",
       "      <td>15453.965861</td>\n",
       "    </tr>\n",
       "    <tr>\n",
       "      <th>8</th>\n",
       "      <td>170</td>\n",
       "      <td>966.477931</td>\n",
       "      <td>17318.234466</td>\n",
       "    </tr>\n",
       "    <tr>\n",
       "      <th>9</th>\n",
       "      <td>180</td>\n",
       "      <td>871.985957</td>\n",
       "      <td>18478.736125</td>\n",
       "    </tr>\n",
       "    <tr>\n",
       "      <th>10</th>\n",
       "      <td>190</td>\n",
       "      <td>791.122103</td>\n",
       "      <td>19112.210288</td>\n",
       "    </tr>\n",
       "  </tbody>\n",
       "</table>\n",
       "</div>"
      ],
      "text/plain": [
       "    selling_price       demand        profit\n",
       "0              90  3036.431464 -60000.000000\n",
       "1             100  2511.886432 -34881.135685\n",
       "2             110  2115.890393 -17682.192138\n",
       "3             120  1809.146587  -5725.602402\n",
       "4             130  1566.397444   2655.897768\n",
       "5             140  1370.785607   8539.280352\n",
       "6             150  1210.697746  12641.864731\n",
       "7             160  1077.913798  15453.965861\n",
       "8             170   966.477931  17318.234466\n",
       "9             180   871.985957  18478.736125\n",
       "10            190   791.122103  19112.210288"
      ]
     },
     "execution_count": 64,
     "metadata": {},
     "output_type": "execute_result"
    }
   ],
   "source": [
    "# Specify input ranges for scenarios (dictionary)\n",
    "# 1-way table\n",
    "dt_param_ranges_1 = {'selling_price': np.arange(90, 191, 10)}\n",
    "\n",
    "# Specify desired outputs (list)\n",
    "outputs = ['demand', 'profit']\n",
    "\n",
    "# Use data_table function to create 1-way data table\n",
    "m2_dt1_df = data_table(model_2, dt_param_ranges_1, outputs)\n",
    "m2_dt1_df"
   ]
  },
  {
   "cell_type": "code",
   "execution_count": 65,
   "metadata": {},
   "outputs": [
    {
     "data": {
      "text/html": [
       "<div>\n",
       "<style scoped>\n",
       "    .dataframe tbody tr th:only-of-type {\n",
       "        vertical-align: middle;\n",
       "    }\n",
       "\n",
       "    .dataframe tbody tr th {\n",
       "        vertical-align: top;\n",
       "    }\n",
       "\n",
       "    .dataframe thead th {\n",
       "        text-align: right;\n",
       "    }\n",
       "</style>\n",
       "<table border=\"1\" class=\"dataframe\">\n",
       "  <thead>\n",
       "    <tr style=\"text-align: right;\">\n",
       "      <th></th>\n",
       "      <th>selling_price</th>\n",
       "      <th>demand</th>\n",
       "      <th>profit</th>\n",
       "    </tr>\n",
       "  </thead>\n",
       "  <tbody>\n",
       "    <tr>\n",
       "      <th>0</th>\n",
       "      <td>90</td>\n",
       "      <td>3036.431464</td>\n",
       "      <td>-60000.000000</td>\n",
       "    </tr>\n",
       "    <tr>\n",
       "      <th>1</th>\n",
       "      <td>100</td>\n",
       "      <td>2511.886432</td>\n",
       "      <td>-34881.135685</td>\n",
       "    </tr>\n",
       "    <tr>\n",
       "      <th>2</th>\n",
       "      <td>110</td>\n",
       "      <td>2115.890393</td>\n",
       "      <td>-17682.192138</td>\n",
       "    </tr>\n",
       "    <tr>\n",
       "      <th>3</th>\n",
       "      <td>120</td>\n",
       "      <td>1809.146587</td>\n",
       "      <td>-5725.602402</td>\n",
       "    </tr>\n",
       "    <tr>\n",
       "      <th>4</th>\n",
       "      <td>130</td>\n",
       "      <td>1566.397444</td>\n",
       "      <td>2655.897768</td>\n",
       "    </tr>\n",
       "    <tr>\n",
       "      <th>5</th>\n",
       "      <td>140</td>\n",
       "      <td>1370.785607</td>\n",
       "      <td>8539.280352</td>\n",
       "    </tr>\n",
       "    <tr>\n",
       "      <th>6</th>\n",
       "      <td>150</td>\n",
       "      <td>1210.697746</td>\n",
       "      <td>12641.864731</td>\n",
       "    </tr>\n",
       "    <tr>\n",
       "      <th>7</th>\n",
       "      <td>160</td>\n",
       "      <td>1077.913798</td>\n",
       "      <td>15453.965861</td>\n",
       "    </tr>\n",
       "    <tr>\n",
       "      <th>8</th>\n",
       "      <td>170</td>\n",
       "      <td>966.477931</td>\n",
       "      <td>17318.234466</td>\n",
       "    </tr>\n",
       "    <tr>\n",
       "      <th>9</th>\n",
       "      <td>180</td>\n",
       "      <td>871.985957</td>\n",
       "      <td>18478.736125</td>\n",
       "    </tr>\n",
       "    <tr>\n",
       "      <th>10</th>\n",
       "      <td>190</td>\n",
       "      <td>791.122103</td>\n",
       "      <td>19112.210288</td>\n",
       "    </tr>\n",
       "  </tbody>\n",
       "</table>\n",
       "</div>"
      ],
      "text/plain": [
       "    selling_price       demand        profit\n",
       "0              90  3036.431464 -60000.000000\n",
       "1             100  2511.886432 -34881.135685\n",
       "2             110  2115.890393 -17682.192138\n",
       "3             120  1809.146587  -5725.602402\n",
       "4             130  1566.397444   2655.897768\n",
       "5             140  1370.785607   8539.280352\n",
       "6             150  1210.697746  12641.864731\n",
       "7             160  1077.913798  15453.965861\n",
       "8             170   966.477931  17318.234466\n",
       "9             180   871.985957  18478.736125\n",
       "10            190   791.122103  19112.210288"
      ]
     },
     "execution_count": 65,
     "metadata": {},
     "output_type": "execute_result"
    }
   ],
   "source": [
    "# Use data_table function built into our 'Model' to create 1-way data table\n",
    "m2_dt1_df2 = model_2.data_table(dt_param_ranges_1, outputs)\n",
    "m2_dt1_df2"
   ]
  },
  {
   "cell_type": "markdown",
   "metadata": {},
   "source": [
    "### Graph Demand and Profit\n",
    "Create a graph based on your data table object so that it is easy to visualize the relationship between selling price and profit"
   ]
  },
  {
   "cell_type": "code",
   "execution_count": 66,
   "metadata": {},
   "outputs": [
    {
     "data": {
      "image/png": "[encoded data removed]",
      "text/plain": [
       "<Figure size 432x288 with 1 Axes>"
      ]
     },
     "metadata": {
      "needs_background": "light"
     },
     "output_type": "display_data"
    }
   ],
   "source": [
    "x = model_2.selling_price\n",
    "y = model_2.profit()\n",
    "plt.plot(x, y)\n",
    "plt.title('Relationship Between Demand and Profit')\n",
    "plt.xlabel('Selling Price')\n",
    "plt.ylabel('Profit')\n",
    "plt.axhline(linewidth=.5, color='r', linestyle='dotted')\n",
    "plt.show()"
   ]
  },
  {
   "cell_type": "markdown",
   "metadata": {
    "tags": []
   },
   "source": [
    "### Discuss the shape of this relationship. Is it linear? Is it nonlinear? Why do you think the graph has the shape it does?"
   ]
  },
  {
   "cell_type": "markdown",
   "metadata": {
    "tags": []
   },
   "source": [
    "The relationship is not linear.  Profit (Loss) increases with a positive slope as the selling price increases.  This seems to level off around \\\\$180.  After that point the gain in profit seems to be minimal, as the slope of the line is flattening. \n",
    "\n",
    "\n",
    "The graph has a significant positive slope while profit is in negative territory, as each increase in the selling price helps to cover the fixed costs.  Once you reach the breakeven point (around \\\\$127ish) the slope starts to decrease.  Once fixed costs are covered, profit is a direct result of the price v. demand.  As the selling price increases the demand will die off which accounts for the flattening of the curve."
   ]
  },
  {
   "cell_type": "markdown",
   "metadata": {},
   "source": [
    "## Break Even\n",
    "Use our goal_seek function to find the break even selling price. "
   ]
  },
  {
   "cell_type": "markdown",
   "metadata": {},
   "source": [
    "We'll create another fresh model for our goal seek"
   ]
  },
  {
   "cell_type": "code",
   "execution_count": 67,
   "metadata": {
    "tags": []
   },
   "outputs": [],
   "source": [
    "# Create a dictionary of base inputs\n",
    "base_inputs = {'fixed_cost': 60000,\n",
    "               'var_cost': 90,\n",
    "               'selling_price': 120,\n",
    "               'spf_scale': 10000000,\n",
    "               'spf_exponent': -1.8}"
   ]
  },
  {
   "cell_type": "code",
   "execution_count": 81,
   "metadata": {
    "tags": []
   },
   "outputs": [
    {
     "name": "stdout",
     "output_type": "stream",
     "text": [
      "{'fixed_cost': 60000, 'var_cost': 90, 'selling_price': 120, 'spf_scale': 10000000, 'spf_exponent': -1.8}\n"
     ]
    },
    {
     "data": {
      "text/plain": [
       "-5725.602402138524"
      ]
     },
     "execution_count": 81,
     "metadata": {},
     "output_type": "execute_result"
    }
   ],
   "source": [
    "# Create a new model with inputs specified by base_inputs dict\n",
    "model_3 = SingleProductSPF(**base_inputs)\n",
    "print(model_3)\n",
    "model_3.profit()"
   ]
  },
  {
   "cell_type": "markdown",
   "metadata": {
    "tags": []
   },
   "source": [
    "Here is our goal seek function:"
   ]
  },
  {
   "cell_type": "code",
   "execution_count": 69,
   "metadata": {
    "jupyter": {
     "source_hidden": true
    },
    "tags": []
   },
   "outputs": [],
   "source": [
    "def goal_seek(model, obj_fn, target, by_changing, a, b, N=100, verbose=False):\n",
    "    '''Approximate solution of f(x)=0 on interval [a,b] by bisection method.\n",
    "\n",
    "    Parameters\n",
    "    ----------\n",
    "    model : object\n",
    "        User defined object containing the appropriate methods and properties for doing the desired goal seek\n",
    "    obj_fn : function\n",
    "        The function for which we are trying to approximate a solution f(x)=target.\n",
    "    target : float\n",
    "        The goal\n",
    "    by_changing : string\n",
    "        Name of the input variable in model\n",
    "    a,b : numbers\n",
    "        The interval in which to search for a solution. The function returns\n",
    "        None if (f(a) - target) * (f(b) - target) >= 0 since a solution is not guaranteed.\n",
    "    N : (positive) integer\n",
    "        The number of iterations to implement.\n",
    "    verbose : boolean (default=False)\n",
    "        If True, root finding progress is reported\n",
    "\n",
    "    Returns\n",
    "    -------\n",
    "    x_N : number\n",
    "        The midpoint of the Nth interval computed by the bisection method. The\n",
    "        initial interval [a_0,b_0] is given by [a,b]. If f(m_n) - target == 0 for some\n",
    "        midpoint m_n = (a_n + b_n)/2, then the function returns this solution.\n",
    "        If all signs of values f(a_n), f(b_n) and f(m_n) are the same at any\n",
    "        iteration, the bisection method fails and return None.\n",
    "    '''\n",
    "    # TODO: Checking of inputs and outputs\n",
    "    \n",
    "    # Clone the model\n",
    "    model_clone = copy.deepcopy(model)\n",
    "    \n",
    "    # The following bisection search is a direct adaptation of\n",
    "    # https://www.math.ubc.ca/~pwalls/math-python/roots-optimization/bisection/\n",
    "    # The changes include needing to use an object method instead of a global function\n",
    "    # and the inclusion of a non-zero target value.\n",
    "    \n",
    "    setattr(model_clone, by_changing, a)\n",
    "    f_a_0 = getattr(model_clone, obj_fn)()\n",
    "    setattr(model_clone, by_changing, b)\n",
    "    f_b_0 = getattr(model_clone, obj_fn)()\n",
    "    \n",
    "    if (f_a_0 - target) * (f_b_0 - target) >= 0:\n",
    "        # print(\"Bisection method fails.\")\n",
    "        return None\n",
    "    \n",
    "    # Initialize the end points\n",
    "    a_n = a\n",
    "    b_n = b\n",
    "    for n in range(1, N+1):\n",
    "        # Compute the midpoint\n",
    "        m_n = (a_n + b_n)/2\n",
    "        \n",
    "        # Function value at midpoint\n",
    "        setattr(model_clone, by_changing, m_n)\n",
    "        f_m_n = getattr(model_clone, obj_fn)()\n",
    "        \n",
    "        # Function value at a_n\n",
    "        setattr(model_clone, by_changing, a_n)\n",
    "        f_a_n = getattr(model_clone, obj_fn)()\n",
    "        \n",
    "        # Function value at b_n\n",
    "        setattr(model_clone, by_changing, b_n)\n",
    "        f_b_n = getattr(model_clone, obj_fn)()\n",
    "        \n",
    "        if verbose:\n",
    "            print(f\"n = {n}, a_n = {a_n}, b_n = {b_n}, m_n = {m_n}, width = {b_n - a_n}\")\n",
    "\n",
    "        # Figure out which half the root is in, or if we hit it exactly, or if the search failed\n",
    "        if (f_a_n - target) * (f_m_n - target) < 0:\n",
    "            a_n = a_n\n",
    "            b_n = m_n\n",
    "            if verbose:\n",
    "                print(\"Root is in left half\")\n",
    "        elif (f_b_n - target) * (f_m_n - target) < 0:\n",
    "            a_n = m_n\n",
    "            b_n = b_n\n",
    "            if verbose:\n",
    "                print(\"Root is in right half\")\n",
    "        elif f_m_n == target:\n",
    "            if verbose:\n",
    "                print(\"Found exact solution.\")\n",
    "            return m_n\n",
    "        else:\n",
    "            if verbose:\n",
    "                print(\"Bisection method fails.\")\n",
    "            return None\n",
    "    \n",
    "    # If we get here we hit iteration limit, return best solution found so far\n",
    "    if verbose:\n",
    "        print(\"Reached iteration limit\")\n",
    "    return (a_n + b_n)/2"
   ]
  },
  {
   "cell_type": "markdown",
   "metadata": {},
   "source": [
    "... and now we will use it to find our break even point"
   ]
  },
  {
   "cell_type": "code",
   "execution_count": 70,
   "metadata": {
    "collapsed": true,
    "jupyter": {
     "outputs_hidden": true
    },
    "tags": []
   },
   "outputs": [
    {
     "name": "stdout",
     "output_type": "stream",
     "text": [
      "n = 1, a_n = 100, b_n = 200, m_n = 150.0, width = 100\n",
      "Root is in left half\n",
      "n = 2, a_n = 100, b_n = 150.0, m_n = 125.0, width = 50.0\n",
      "Root is in right half\n",
      "n = 3, a_n = 125.0, b_n = 150.0, m_n = 137.5, width = 25.0\n",
      "Root is in left half\n",
      "n = 4, a_n = 125.0, b_n = 137.5, m_n = 131.25, width = 12.5\n",
      "Root is in left half\n",
      "n = 5, a_n = 125.0, b_n = 131.25, m_n = 128.125, width = 6.25\n",
      "Root is in left half\n",
      "n = 6, a_n = 125.0, b_n = 128.125, m_n = 126.5625, width = 3.125\n",
      "Root is in left half\n",
      "n = 7, a_n = 125.0, b_n = 126.5625, m_n = 125.78125, width = 1.5625\n",
      "Root is in right half\n",
      "n = 8, a_n = 125.78125, b_n = 126.5625, m_n = 126.171875, width = 0.78125\n",
      "Root is in right half\n",
      "n = 9, a_n = 126.171875, b_n = 126.5625, m_n = 126.3671875, width = 0.390625\n",
      "Root is in right half\n",
      "n = 10, a_n = 126.3671875, b_n = 126.5625, m_n = 126.46484375, width = 0.1953125\n",
      "Root is in left half\n",
      "n = 11, a_n = 126.3671875, b_n = 126.46484375, m_n = 126.416015625, width = 0.09765625\n",
      "Root is in right half\n",
      "n = 12, a_n = 126.416015625, b_n = 126.46484375, m_n = 126.4404296875, width = 0.048828125\n",
      "Root is in left half\n",
      "n = 13, a_n = 126.416015625, b_n = 126.4404296875, m_n = 126.42822265625, width = 0.0244140625\n",
      "Root is in right half\n",
      "n = 14, a_n = 126.42822265625, b_n = 126.4404296875, m_n = 126.434326171875, width = 0.01220703125\n",
      "Root is in left half\n",
      "n = 15, a_n = 126.42822265625, b_n = 126.434326171875, m_n = 126.4312744140625, width = 0.006103515625\n",
      "Root is in right half\n",
      "n = 16, a_n = 126.4312744140625, b_n = 126.434326171875, m_n = 126.43280029296875, width = 0.0030517578125\n",
      "Root is in right half\n",
      "n = 17, a_n = 126.43280029296875, b_n = 126.434326171875, m_n = 126.43356323242188, width = 0.00152587890625\n",
      "Root is in right half\n",
      "n = 18, a_n = 126.43356323242188, b_n = 126.434326171875, m_n = 126.43394470214844, width = 0.000762939453125\n",
      "Root is in left half\n",
      "n = 19, a_n = 126.43356323242188, b_n = 126.43394470214844, m_n = 126.43375396728516, width = 0.0003814697265625\n",
      "Root is in right half\n",
      "n = 20, a_n = 126.43375396728516, b_n = 126.43394470214844, m_n = 126.4338493347168, width = 0.00019073486328125\n",
      "Root is in right half\n",
      "n = 21, a_n = 126.4338493347168, b_n = 126.43394470214844, m_n = 126.43389701843262, width = 9.5367431640625e-05\n",
      "Root is in left half\n",
      "n = 22, a_n = 126.4338493347168, b_n = 126.43389701843262, m_n = 126.4338731765747, width = 4.76837158203125e-05\n",
      "Root is in right half\n",
      "n = 23, a_n = 126.4338731765747, b_n = 126.43389701843262, m_n = 126.43388509750366, width = 2.384185791015625e-05\n",
      "Root is in right half\n",
      "n = 24, a_n = 126.43388509750366, b_n = 126.43389701843262, m_n = 126.43389105796814, width = 1.1920928955078125e-05\n",
      "Root is in right half\n",
      "n = 25, a_n = 126.43389105796814, b_n = 126.43389701843262, m_n = 126.43389403820038, width = 5.9604644775390625e-06\n",
      "Root is in left half\n",
      "n = 26, a_n = 126.43389105796814, b_n = 126.43389403820038, m_n = 126.43389254808426, width = 2.9802322387695312e-06\n",
      "Root is in left half\n",
      "n = 27, a_n = 126.43389105796814, b_n = 126.43389254808426, m_n = 126.4338918030262, width = 1.4901161193847656e-06\n",
      "Root is in left half\n",
      "n = 28, a_n = 126.43389105796814, b_n = 126.4338918030262, m_n = 126.43389143049717, width = 7.450580596923828e-07\n",
      "Root is in left half\n",
      "n = 29, a_n = 126.43389105796814, b_n = 126.43389143049717, m_n = 126.43389124423265, width = 3.725290298461914e-07\n",
      "Root is in right half\n",
      "n = 30, a_n = 126.43389124423265, b_n = 126.43389143049717, m_n = 126.43389133736491, width = 1.862645149230957e-07\n",
      "Root is in right half\n",
      "n = 31, a_n = 126.43389133736491, b_n = 126.43389143049717, m_n = 126.43389138393104, width = 9.313225746154785e-08\n",
      "Root is in left half\n",
      "n = 32, a_n = 126.43389133736491, b_n = 126.43389138393104, m_n = 126.43389136064798, width = 4.6566128730773926e-08\n",
      "Root is in left half\n",
      "n = 33, a_n = 126.43389133736491, b_n = 126.43389136064798, m_n = 126.43389134900644, width = 2.3283064365386963e-08\n",
      "Root is in right half\n",
      "n = 34, a_n = 126.43389134900644, b_n = 126.43389136064798, m_n = 126.43389135482721, width = 1.1641532182693481e-08\n",
      "Root is in right half\n",
      "n = 35, a_n = 126.43389135482721, b_n = 126.43389136064798, m_n = 126.4338913577376, width = 5.820766091346741e-09\n",
      "Root is in right half\n",
      "n = 36, a_n = 126.4338913577376, b_n = 126.43389136064798, m_n = 126.43389135919278, width = 2.9103830456733704e-09\n",
      "Root is in right half\n",
      "n = 37, a_n = 126.43389135919278, b_n = 126.43389136064798, m_n = 126.43389135992038, width = 1.4551915228366852e-09\n",
      "Root is in left half\n",
      "n = 38, a_n = 126.43389135919278, b_n = 126.43389135992038, m_n = 126.43389135955658, width = 7.275957614183426e-10\n",
      "Root is in left half\n",
      "n = 39, a_n = 126.43389135919278, b_n = 126.43389135955658, m_n = 126.43389135937468, width = 3.637978807091713e-10\n",
      "Root is in left half\n",
      "n = 40, a_n = 126.43389135919278, b_n = 126.43389135937468, m_n = 126.43389135928373, width = 1.8189894035458565e-10\n",
      "Root is in left half\n",
      "n = 41, a_n = 126.43389135919278, b_n = 126.43389135928373, m_n = 126.43389135923826, width = 9.094947017729282e-11\n",
      "Root is in left half\n",
      "n = 42, a_n = 126.43389135919278, b_n = 126.43389135923826, m_n = 126.43389135921552, width = 4.547473508864641e-11\n",
      "Root is in right half\n",
      "n = 43, a_n = 126.43389135921552, b_n = 126.43389135923826, m_n = 126.43389135922689, width = 2.2737367544323206e-11\n",
      "Root is in left half\n",
      "n = 44, a_n = 126.43389135921552, b_n = 126.43389135922689, m_n = 126.4338913592212, width = 1.1368683772161603e-11\n",
      "Root is in left half\n",
      "n = 45, a_n = 126.43389135921552, b_n = 126.4338913592212, m_n = 126.43389135921836, width = 5.6843418860808015e-12\n",
      "Root is in right half\n",
      "n = 46, a_n = 126.43389135921836, b_n = 126.4338913592212, m_n = 126.43389135921979, width = 2.8421709430404007e-12\n",
      "Root is in right half\n",
      "n = 47, a_n = 126.43389135921979, b_n = 126.4338913592212, m_n = 126.4338913592205, width = 1.4210854715202004e-12\n",
      "Root is in right half\n",
      "n = 48, a_n = 126.4338913592205, b_n = 126.4338913592212, m_n = 126.43389135922085, width = 7.105427357601002e-13\n",
      "Root is in left half\n",
      "n = 49, a_n = 126.4338913592205, b_n = 126.43389135922085, m_n = 126.43389135922067, width = 3.552713678800501e-13\n",
      "Root is in right half\n",
      "n = 50, a_n = 126.43389135922067, b_n = 126.43389135922085, m_n = 126.43389135922075, width = 1.8474111129762605e-13\n",
      "Root is in left half\n",
      "n = 51, a_n = 126.43389135922067, b_n = 126.43389135922075, m_n = 126.43389135922071, width = 8.526512829121202e-14\n",
      "Found exact solution.\n"
     ]
    },
    {
     "data": {
      "text/plain": [
       "126.43389135922071"
      ]
     },
     "execution_count": 70,
     "metadata": {},
     "output_type": "execute_result"
    }
   ],
   "source": [
    "goal_seek(model_3, 'profit', 0, 'selling_price', 100, 200, N=100, verbose=True)"
   ]
  },
  {
   "cell_type": "markdown",
   "metadata": {},
   "source": [
    "Instead of bringing the function into this notebook, we can also use the goal_seek that is tucked into our 'Model'...\n",
    "\n",
    "Easier, but I wanted to see the verbose output for fun ;)"
   ]
  },
  {
   "cell_type": "code",
   "execution_count": 71,
   "metadata": {
    "tags": []
   },
   "outputs": [
    {
     "data": {
      "text/plain": [
       "126.43389135922071"
      ]
     },
     "execution_count": 71,
     "metadata": {},
     "output_type": "execute_result"
    }
   ],
   "source": [
    "model_3.goal_seek('profit', 0, 'selling_price', 100, 200)"
   ]
  },
  {
   "cell_type": "markdown",
   "metadata": {
    "tags": []
   },
   "source": [
    "The break even selling price is \\\\$126.43, which is exactly where we expected it to be based on the plotting we did previously"
   ]
  },
  {
   "cell_type": "markdown",
   "metadata": {},
   "source": [
    "## 2-Way Data Table\n",
    "Create a 2-way data table using data_table for profit AND total cost. Let price range from \\\\$90 to \\\\$190 in steps of \\\\$10 and let the variable production cost vary from \\\\$85 to \\\\$110 in steps of \\\\$5."
   ]
  },
  {
   "cell_type": "code",
   "execution_count": 72,
   "metadata": {},
   "outputs": [
    {
     "data": {
      "text/html": [
       "<div>\n",
       "<style scoped>\n",
       "    .dataframe tbody tr th:only-of-type {\n",
       "        vertical-align: middle;\n",
       "    }\n",
       "\n",
       "    .dataframe tbody tr th {\n",
       "        vertical-align: top;\n",
       "    }\n",
       "\n",
       "    .dataframe thead th {\n",
       "        text-align: right;\n",
       "    }\n",
       "</style>\n",
       "<table border=\"1\" class=\"dataframe\">\n",
       "  <thead>\n",
       "    <tr style=\"text-align: right;\">\n",
       "      <th></th>\n",
       "      <th>selling_price</th>\n",
       "      <th>var_cost</th>\n",
       "      <th>demand</th>\n",
       "      <th>profit</th>\n",
       "    </tr>\n",
       "  </thead>\n",
       "  <tbody>\n",
       "    <tr>\n",
       "      <th>0</th>\n",
       "      <td>90</td>\n",
       "      <td>85</td>\n",
       "      <td>3036.431464</td>\n",
       "      <td>-44817.842680</td>\n",
       "    </tr>\n",
       "    <tr>\n",
       "      <th>1</th>\n",
       "      <td>90</td>\n",
       "      <td>90</td>\n",
       "      <td>3036.431464</td>\n",
       "      <td>-60000.000000</td>\n",
       "    </tr>\n",
       "    <tr>\n",
       "      <th>2</th>\n",
       "      <td>90</td>\n",
       "      <td>95</td>\n",
       "      <td>3036.431464</td>\n",
       "      <td>-75182.157320</td>\n",
       "    </tr>\n",
       "    <tr>\n",
       "      <th>3</th>\n",
       "      <td>90</td>\n",
       "      <td>100</td>\n",
       "      <td>3036.431464</td>\n",
       "      <td>-90364.314640</td>\n",
       "    </tr>\n",
       "    <tr>\n",
       "      <th>4</th>\n",
       "      <td>90</td>\n",
       "      <td>105</td>\n",
       "      <td>3036.431464</td>\n",
       "      <td>-105546.471960</td>\n",
       "    </tr>\n",
       "    <tr>\n",
       "      <th>...</th>\n",
       "      <td>...</td>\n",
       "      <td>...</td>\n",
       "      <td>...</td>\n",
       "      <td>...</td>\n",
       "    </tr>\n",
       "    <tr>\n",
       "      <th>61</th>\n",
       "      <td>190</td>\n",
       "      <td>90</td>\n",
       "      <td>791.122103</td>\n",
       "      <td>19112.210288</td>\n",
       "    </tr>\n",
       "    <tr>\n",
       "      <th>62</th>\n",
       "      <td>190</td>\n",
       "      <td>95</td>\n",
       "      <td>791.122103</td>\n",
       "      <td>15156.599774</td>\n",
       "    </tr>\n",
       "    <tr>\n",
       "      <th>63</th>\n",
       "      <td>190</td>\n",
       "      <td>100</td>\n",
       "      <td>791.122103</td>\n",
       "      <td>11200.989260</td>\n",
       "    </tr>\n",
       "    <tr>\n",
       "      <th>64</th>\n",
       "      <td>190</td>\n",
       "      <td>105</td>\n",
       "      <td>791.122103</td>\n",
       "      <td>7245.378745</td>\n",
       "    </tr>\n",
       "    <tr>\n",
       "      <th>65</th>\n",
       "      <td>190</td>\n",
       "      <td>110</td>\n",
       "      <td>791.122103</td>\n",
       "      <td>3289.768231</td>\n",
       "    </tr>\n",
       "  </tbody>\n",
       "</table>\n",
       "<p>66 rows × 4 columns</p>\n",
       "</div>"
      ],
      "text/plain": [
       "    selling_price  var_cost       demand         profit\n",
       "0              90        85  3036.431464  -44817.842680\n",
       "1              90        90  3036.431464  -60000.000000\n",
       "2              90        95  3036.431464  -75182.157320\n",
       "3              90       100  3036.431464  -90364.314640\n",
       "4              90       105  3036.431464 -105546.471960\n",
       "..            ...       ...          ...            ...\n",
       "61            190        90   791.122103   19112.210288\n",
       "62            190        95   791.122103   15156.599774\n",
       "63            190       100   791.122103   11200.989260\n",
       "64            190       105   791.122103    7245.378745\n",
       "65            190       110   791.122103    3289.768231\n",
       "\n",
       "[66 rows x 4 columns]"
      ]
     },
     "execution_count": 72,
     "metadata": {},
     "output_type": "execute_result"
    }
   ],
   "source": [
    "# Specify input ranges for scenarios (dictionary)\n",
    "dt_param_ranges_2 = {'selling_price': np.arange(90, 191, 10),\n",
    "                   'var_cost': np.arange(85, 111, 5)}\n",
    "\n",
    "# Specify desired outputs (list)\n",
    "outputs_2 = ['demand', 'profit']\n",
    "\n",
    "# Use data_table function built into our 'Model' to create 2-way data table\n",
    "m2_dt2way_df = model_2.data_table(dt_param_ranges_2, outputs_2)\n",
    "m2_dt2way_df"
   ]
  },
  {
   "cell_type": "markdown",
   "metadata": {
    "tags": []
   },
   "source": [
    "## Simulation\n",
    "Add some uncertainty to the SPF exponent. Specifically, model it with a uniform distribution between (-1.6, -2.0)"
   ]
  },
  {
   "cell_type": "code",
   "execution_count": 73,
   "metadata": {},
   "outputs": [
    {
     "data": {
      "text/plain": [
       "0.45855804438027437"
      ]
     },
     "execution_count": 73,
     "metadata": {},
     "output_type": "execute_result"
    }
   ],
   "source": [
    "from numpy.random import default_rng\n",
    "rg = default_rng(4470)\n",
    "rg.random() # Generate one just to see it work"
   ]
  },
  {
   "cell_type": "markdown",
   "metadata": {},
   "source": [
    "Generate 1000 random variates from a uniform distribution "
   ]
  },
  {
   "cell_type": "code",
   "execution_count": 74,
   "metadata": {},
   "outputs": [],
   "source": [
    "spf_exp_sim = rg.uniform(-2.0, -1.6, 1000)"
   ]
  },
  {
   "cell_type": "code",
   "execution_count": 75,
   "metadata": {},
   "outputs": [
    {
     "data": {
      "text/plain": [
       "array([-1.93991299, -1.91525292, -1.86294876, -1.62626725, -1.71525073,\n",
       "       -1.71226064, -1.75090368, -1.84660017, -1.97019406, -1.97731118])"
      ]
     },
     "execution_count": 75,
     "metadata": {},
     "output_type": "execute_result"
    }
   ],
   "source": [
    "spf_exp_sim[:10]"
   ]
  },
  {
   "cell_type": "markdown",
   "metadata": {
    "tags": []
   },
   "source": [
    "Looks good so far\n",
    "\n",
    "We can plot it to confirm we will get a uniform distribution..."
   ]
  },
  {
   "cell_type": "code",
   "execution_count": 76,
   "metadata": {},
   "outputs": [
    {
     "data": {
      "image/png": "[encoded data removed]",
      "text/plain": [
       "<Figure size 432x288 with 1 Axes>"
      ]
     },
     "metadata": {
      "needs_background": "light"
     },
     "output_type": "display_data"
    }
   ],
   "source": [
    "plt.title(\"SPF Exponent Histogram\")\n",
    "plt.xlabel(\"SPF Exponent\")\n",
    "plt.ylabel(\"Value\")\n",
    "plt.hist(spf_exp_sim, density=True);\n"
   ]
  },
  {
   "cell_type": "markdown",
   "metadata": {},
   "source": [
    "I'm going to quickly make a new model to do our simulation on... same vaues we have used before"
   ]
  },
  {
   "cell_type": "code",
   "execution_count": 77,
   "metadata": {},
   "outputs": [
    {
     "name": "stdout",
     "output_type": "stream",
     "text": [
      "{'fixed_cost': 60000, 'var_cost': 90, 'selling_price': 120, 'spf_scale': 10000000, 'spf_exponent': -1.8}\n"
     ]
    }
   ],
   "source": [
    "# Create a new model with same inputs specified by base_inputs dict above\n",
    "model_4 = SingleProductSPF(**base_inputs)\n",
    "print(model_4)"
   ]
  },
  {
   "cell_type": "markdown",
   "metadata": {},
   "source": [
    "I'm going to only do 100 reps for this scenario..."
   ]
  },
  {
   "cell_type": "code",
   "execution_count": 78,
   "metadata": {
    "tags": []
   },
   "outputs": [],
   "source": [
    "num_reps = 100\n",
    "spf_exp_sim2 = rg.uniform(-2.0, -1.6, num_reps)\n",
    "\n",
    "random_inputs = {'spf_exponent': spf_exp_sim2}"
   ]
  },
  {
   "cell_type": "code",
   "execution_count": 79,
   "metadata": {
    "collapsed": true,
    "jupyter": {
     "outputs_hidden": true
    },
    "tags": []
   },
   "outputs": [
    {
     "data": {
      "text/plain": [
       "[{'selling_price': 90, 'var_cost': 85},\n",
       " {'selling_price': 90, 'var_cost': 90},\n",
       " {'selling_price': 90, 'var_cost': 95},\n",
       " {'selling_price': 90, 'var_cost': 100},\n",
       " {'selling_price': 90, 'var_cost': 105},\n",
       " {'selling_price': 90, 'var_cost': 110},\n",
       " {'selling_price': 100, 'var_cost': 85},\n",
       " {'selling_price': 100, 'var_cost': 90},\n",
       " {'selling_price': 100, 'var_cost': 95},\n",
       " {'selling_price': 100, 'var_cost': 100},\n",
       " {'selling_price': 100, 'var_cost': 105},\n",
       " {'selling_price': 100, 'var_cost': 110},\n",
       " {'selling_price': 110, 'var_cost': 85},\n",
       " {'selling_price': 110, 'var_cost': 90},\n",
       " {'selling_price': 110, 'var_cost': 95},\n",
       " {'selling_price': 110, 'var_cost': 100},\n",
       " {'selling_price': 110, 'var_cost': 105},\n",
       " {'selling_price': 110, 'var_cost': 110},\n",
       " {'selling_price': 120, 'var_cost': 85},\n",
       " {'selling_price': 120, 'var_cost': 90},\n",
       " {'selling_price': 120, 'var_cost': 95},\n",
       " {'selling_price': 120, 'var_cost': 100},\n",
       " {'selling_price': 120, 'var_cost': 105},\n",
       " {'selling_price': 120, 'var_cost': 110},\n",
       " {'selling_price': 130, 'var_cost': 85},\n",
       " {'selling_price': 130, 'var_cost': 90},\n",
       " {'selling_price': 130, 'var_cost': 95},\n",
       " {'selling_price': 130, 'var_cost': 100},\n",
       " {'selling_price': 130, 'var_cost': 105},\n",
       " {'selling_price': 130, 'var_cost': 110},\n",
       " {'selling_price': 140, 'var_cost': 85},\n",
       " {'selling_price': 140, 'var_cost': 90},\n",
       " {'selling_price': 140, 'var_cost': 95},\n",
       " {'selling_price': 140, 'var_cost': 100},\n",
       " {'selling_price': 140, 'var_cost': 105},\n",
       " {'selling_price': 140, 'var_cost': 110},\n",
       " {'selling_price': 150, 'var_cost': 85},\n",
       " {'selling_price': 150, 'var_cost': 90},\n",
       " {'selling_price': 150, 'var_cost': 95},\n",
       " {'selling_price': 150, 'var_cost': 100},\n",
       " {'selling_price': 150, 'var_cost': 105},\n",
       " {'selling_price': 150, 'var_cost': 110},\n",
       " {'selling_price': 160, 'var_cost': 85},\n",
       " {'selling_price': 160, 'var_cost': 90},\n",
       " {'selling_price': 160, 'var_cost': 95},\n",
       " {'selling_price': 160, 'var_cost': 100},\n",
       " {'selling_price': 160, 'var_cost': 105},\n",
       " {'selling_price': 160, 'var_cost': 110},\n",
       " {'selling_price': 170, 'var_cost': 85},\n",
       " {'selling_price': 170, 'var_cost': 90},\n",
       " {'selling_price': 170, 'var_cost': 95},\n",
       " {'selling_price': 170, 'var_cost': 100},\n",
       " {'selling_price': 170, 'var_cost': 105},\n",
       " {'selling_price': 170, 'var_cost': 110},\n",
       " {'selling_price': 180, 'var_cost': 85},\n",
       " {'selling_price': 180, 'var_cost': 90},\n",
       " {'selling_price': 180, 'var_cost': 95},\n",
       " {'selling_price': 180, 'var_cost': 100},\n",
       " {'selling_price': 180, 'var_cost': 105},\n",
       " {'selling_price': 180, 'var_cost': 110},\n",
       " {'selling_price': 190, 'var_cost': 85},\n",
       " {'selling_price': 190, 'var_cost': 90},\n",
       " {'selling_price': 190, 'var_cost': 95},\n",
       " {'selling_price': 190, 'var_cost': 100},\n",
       " {'selling_price': 190, 'var_cost': 105},\n",
       " {'selling_price': 190, 'var_cost': 110}]"
      ]
     },
     "execution_count": 79,
     "metadata": {},
     "output_type": "execute_result"
    }
   ],
   "source": [
    "scenario_inputs = {'selling_price': np.arange(90, 191, 10),\n",
    "                   'var_cost': np.arange(85, 111, 5)}\n",
    "list(ParameterGrid(scenario_inputs))"
   ]
  },
  {
   "cell_type": "markdown",
   "metadata": {},
   "source": [
    "The question is asking for profit"
   ]
  },
  {
   "cell_type": "code",
   "execution_count": 80,
   "metadata": {
    "tags": []
   },
   "outputs": [],
   "source": [
    "sim_outputs = ['profit']"
   ]
  },
  {
   "cell_type": "markdown",
   "metadata": {
    "tags": []
   },
   "source": [
    "Simulate function taken from what_if_simulation.ipynb:"
   ]
  },
  {
   "cell_type": "code",
   "execution_count": 83,
   "metadata": {
    "jupyter": {
     "source_hidden": true
    },
    "tags": []
   },
   "outputs": [],
   "source": [
    "def simulate(model, random_inputs, outputs, scenario_inputs=None, keep_random_inputs=False):\n",
    "    '''Simulate model for one or more scenarios\n",
    "\n",
    "    Parameters\n",
    "    ----------\n",
    "    model : object\n",
    "        User defined object containing the appropriate methods and properties for computing outputs from inputs\n",
    "    random_intputs : dict of str to sequence of random variates\n",
    "        Keys are stochastic input variable names and values are sequence of $n$ random variates, where $n$ is the number of simulation replications\n",
    "    outputs : list of str\n",
    "        List of output variable names\n",
    "    scenario_inputs : optional (default is None), dict of str to sequence\n",
    "        Keys are deterministic input variable names and values are sequence of values for each scenario for this variable. Is consumed by\n",
    "        scikit-learn ParameterGrid() function. See https://scikit-learn.org/stable/modules/generated/sklearn.model_selection.ParameterGrid.html\n",
    "    keep_random_inputs : optional (default is False), boolean\n",
    "        If True, all the random input variates are included in the results dataframe\n",
    "\n",
    "    Returns\n",
    "    -------\n",
    "    results_df : list of dict\n",
    "        Values of all outputs for each simulation replication. If `scenario_inputs` is not None, then this is also for every combination of scenario inputs\n",
    "    '''\n",
    "    \n",
    "    # Clone the model\n",
    "    model_clone = copy.deepcopy(model)\n",
    "    \n",
    "    # Update clone with random_inputs\n",
    "    model_clone.update(random_inputs)\n",
    "    \n",
    "    # Store raw simulation input values if desired\n",
    "    if keep_random_inputs:\n",
    "        scenario_base_vals = vars(model_clone)\n",
    "    else:\n",
    "        scenario_base_vals = vars(model)\n",
    "    \n",
    "    # Initialize output counters and containers\n",
    "    scenario_num = 0\n",
    "    scenario_results = []\n",
    "    \n",
    "    # Check if multiple scenarios\n",
    "    if scenario_inputs is not None:\n",
    "        # Create parameter grid for scenario inputs\n",
    "        sim_param_grid = list(ParameterGrid(scenario_inputs))\n",
    "        \n",
    "        # Scenario loop\n",
    "        for params in sim_param_grid:\n",
    "            model_clone.update(params)\n",
    "            # Initialize scenario related outputs\n",
    "            result = {}\n",
    "            scenario_vals = copy.copy(params)\n",
    "            result['scenario_base_vals'] = scenario_base_vals\n",
    "            result['scenario_num'] = scenario_num\n",
    "            result['scenario_vals'] = scenario_vals\n",
    "            raw_output = {}\n",
    "            \n",
    "            # Output measure loop\n",
    "            for output_name in outputs:\n",
    "                output_array = getattr(model_clone, output_name)()\n",
    "                raw_output[output_name] = output_array\n",
    "            \n",
    "            # Gather results for this scenario\n",
    "            result['output'] = raw_output\n",
    "            scenario_results.append(result)\n",
    "            scenario_num += 1\n",
    "                \n",
    "        return scenario_results\n",
    "\n",
    "    else:\n",
    "        # Similar logic to above, but only a single scenario\n",
    "        results = []\n",
    "        result = {}\n",
    "\n",
    "        result['scenario_base_vals'] = scenario_base_vals\n",
    "        result['scenario_num'] = scenario_num\n",
    "        result['scenario_vals'] = {}\n",
    "        \n",
    "        raw_output = {}\n",
    "        for output_name in outputs:\n",
    "            output_array = getattr(model_clone, output_name)()\n",
    "            raw_output[output_name] = output_array\n",
    "            \n",
    "        result['output'] = raw_output  \n",
    "        results.append(result)\n",
    "\n",
    "        return results"
   ]
  },
  {
   "cell_type": "code",
   "execution_count": 85,
   "metadata": {
    "tags": []
   },
   "outputs": [],
   "source": [
    "model_4_sim_results = simulate(model_4, random_inputs, sim_outputs, scenario_inputs)"
   ]
  },
  {
   "cell_type": "markdown",
   "metadata": {},
   "source": [
    " Like you did, I plucked out one scenario near the middle of the selling price values and explored the outputs."
   ]
  },
  {
   "cell_type": "code",
   "execution_count": 86,
   "metadata": {},
   "outputs": [
    {
     "data": {
      "text/plain": [
       "dict_keys(['scenario_base_vals', 'scenario_num', 'scenario_vals', 'output'])"
      ]
     },
     "execution_count": 86,
     "metadata": {},
     "output_type": "execute_result"
    }
   ],
   "source": [
    "which_scenario = 4\n",
    "\n",
    "# What are the keys in the output dictionaries\n",
    "model_4_sim_results[which_scenario].keys()"
   ]
  },
  {
   "cell_type": "code",
   "execution_count": 87,
   "metadata": {},
   "outputs": [
    {
     "data": {
      "text/plain": [
       "{'selling_price': 90, 'var_cost': 105}"
      ]
     },
     "execution_count": 87,
     "metadata": {},
     "output_type": "execute_result"
    }
   ],
   "source": [
    "model_4_sim_results[which_scenario]['scenario_vals']"
   ]
  },
  {
   "cell_type": "code",
   "execution_count": 88,
   "metadata": {
    "collapsed": true,
    "jupyter": {
     "outputs_hidden": true
    },
    "tags": []
   },
   "outputs": [
    {
     "name": "stdout",
     "output_type": "stream",
     "text": [
      "0 {'selling_price': 90, 'var_cost': 85} -43187.23804572121\n",
      "1 {'selling_price': 90, 'var_cost': 90} -60000.0\n",
      "2 {'selling_price': 90, 'var_cost': 95} -76812.7619542788\n",
      "3 {'selling_price': 90, 'var_cost': 100} -93625.52390855759\n",
      "4 {'selling_price': 90, 'var_cost': 105} -110438.28586283639\n",
      "5 {'selling_price': 90, 'var_cost': 110} -127251.04781711519\n",
      "6 {'selling_price': 100, 'var_cost': 85} -18050.186090937266\n",
      "7 {'selling_price': 100, 'var_cost': 90} -32033.457393958182\n",
      "8 {'selling_price': 100, 'var_cost': 95} -46016.72869697908\n",
      "9 {'selling_price': 100, 'var_cost': 100} -60000.0\n",
      "10 {'selling_price': 100, 'var_cost': 105} -73983.27130302093\n",
      "11 {'selling_price': 100, 'var_cost': 110} -87966.54260604182\n",
      "12 {'selling_price': 110, 'var_cost': 85} -812.4492448498928\n",
      "13 {'selling_price': 110, 'var_cost': 90} -12649.959395879914\n",
      "14 {'selling_price': 110, 'var_cost': 95} -24487.46954690994\n",
      "15 {'selling_price': 110, 'var_cost': 100} -36324.979697939954\n",
      "16 {'selling_price': 110, 'var_cost': 105} -48162.48984896997\n",
      "17 {'selling_price': 110, 'var_cost': 110} -60000.0\n",
      "18 {'selling_price': 120, 'var_cost': 85} 11178.508189948148\n",
      "19 {'selling_price': 120, 'var_cost': 90} 1010.1498770984141\n",
      "20 {'selling_price': 120, 'var_cost': 95} -9158.208435751323\n",
      "21 {'selling_price': 120, 'var_cost': 100} -19326.566748601057\n",
      "22 {'selling_price': 120, 'var_cost': 105} -29494.925061450795\n",
      "23 {'selling_price': 120, 'var_cost': 110} -39663.28337430053\n",
      "24 {'selling_price': 130, 'var_cost': 85} 19579.924669828582\n",
      "25 {'selling_price': 130, 'var_cost': 90} 10737.710817625411\n",
      "26 {'selling_price': 130, 'var_cost': 95} 1895.496965422238\n",
      "27 {'selling_price': 130, 'var_cost': 100} -6946.71688678094\n",
      "28 {'selling_price': 130, 'var_cost': 105} -15788.930738984114\n",
      "29 {'selling_price': 130, 'var_cost': 110} -24631.14459118729\n",
      "30 {'selling_price': 140, 'var_cost': 85} 25465.688392472017\n",
      "31 {'selling_price': 140, 'var_cost': 90} 17696.080356792743\n",
      "32 {'selling_price': 140, 'var_cost': 95} 9926.47232111347\n",
      "33 {'selling_price': 140, 'var_cost': 100} 2156.864285434193\n",
      "34 {'selling_price': 140, 'var_cost': 105} -5612.7437502450775\n",
      "35 {'selling_price': 140, 'var_cost': 110} -13382.351785924351\n",
      "36 {'selling_price': 150, 'var_cost': 85} 29553.209624986597\n",
      "37 {'selling_price': 150, 'var_cost': 90} 22664.50119229531\n",
      "38 {'selling_price': 150, 'var_cost': 95} 15775.792759604035\n",
      "39 {'selling_price': 150, 'var_cost': 100} 8887.08432691276\n",
      "40 {'selling_price': 150, 'var_cost': 105} 1998.3758942214843\n",
      "41 {'selling_price': 150, 'var_cost': 110} -4890.332538469791\n",
      "42 {'selling_price': 160, 'var_cost': 85} 32334.263317629135\n",
      "43 {'selling_price': 160, 'var_cost': 90} 26178.64576312052\n",
      "44 {'selling_price': 160, 'var_cost': 95} 20023.028208611915\n",
      "45 {'selling_price': 160, 'var_cost': 100} 13867.410654103303\n",
      "46 {'selling_price': 160, 'var_cost': 105} 7711.793099594699\n",
      "47 {'selling_price': 160, 'var_cost': 110} 1556.175545086088\n",
      "48 {'selling_price': 170, 'var_cost': 85} 34153.45564332054\n",
      "49 {'selling_price': 170, 'var_cost': 90} 28615.017076066393\n",
      "50 {'selling_price': 170, 'var_cost': 95} 23076.578508812247\n",
      "51 {'selling_price': 170, 'var_cost': 100} 17538.139941558096\n",
      "52 {'selling_price': 170, 'var_cost': 105} 11999.70137430394\n",
      "53 {'selling_price': 170, 'var_cost': 110} 6461.262807049797\n",
      "54 {'selling_price': 180, 'var_cost': 85} 35256.8849695028\n",
      "55 {'selling_price': 180, 'var_cost': 90} 30243.364707950008\n",
      "56 {'selling_price': 180, 'var_cost': 95} 25229.844446397237\n",
      "57 {'selling_price': 180, 'var_cost': 100} 20216.324184844456\n",
      "58 {'selling_price': 180, 'var_cost': 105} 15202.80392329168\n",
      "59 {'selling_price': 180, 'var_cost': 110} 10189.283661738902\n",
      "60 {'selling_price': 190, 'var_cost': 85} 35823.20951622138\n",
      "61 {'selling_price': 190, 'var_cost': 90} 31260.199539258458\n",
      "62 {'selling_price': 190, 'var_cost': 95} 26697.18956229553\n",
      "63 {'selling_price': 190, 'var_cost': 100} 22134.179585332615\n",
      "64 {'selling_price': 190, 'var_cost': 105} 17571.169608369688\n",
      "65 {'selling_price': 190, 'var_cost': 110} 13008.159631406766\n"
     ]
    }
   ],
   "source": [
    "for scenario in model_4_sim_results:\n",
    "    print(scenario['scenario_num'], scenario['scenario_vals'], scenario['output']['profit'].mean())"
   ]
  },
  {
   "cell_type": "markdown",
   "metadata": {},
   "source": [
    "We can gather results function to turn results object into an analysis ready DataFrame."
   ]
  },
  {
   "cell_type": "code",
   "execution_count": 89,
   "metadata": {
    "jupyter": {
     "source_hidden": true
    },
    "tags": []
   },
   "outputs": [],
   "source": [
    "def get_sim_results_df(results):\n",
    "    \n",
    "    dfs = []    \n",
    "    for r in results:\n",
    "        df = pd.DataFrame(r['output'])\n",
    "        df['scenario_num'] = r['scenario_num']\n",
    "        for key, val in r['scenario_vals'].items():\n",
    "            df[key] = val\n",
    "            \n",
    "        dfs.append(df)\n",
    "\n",
    "    results_df = pd.concat(dfs)\n",
    "    \n",
    "    return results_df"
   ]
  },
  {
   "cell_type": "code",
   "execution_count": 91,
   "metadata": {},
   "outputs": [],
   "source": [
    "model_4_sim_results_df = get_sim_results_df(model_4_sim_results)"
   ]
  },
  {
   "cell_type": "markdown",
   "metadata": {},
   "source": [
    "### Histogram of Simulation\n",
    "Using the data frame created above we can create various histograms of profit"
   ]
  },
  {
   "cell_type": "code",
   "execution_count": 93,
   "metadata": {},
   "outputs": [
    {
     "data": {
      "image/png": "[encoded data removed]",
      "text/plain": [
       "<Figure size 648x432 with 6 Axes>"
      ]
     },
     "metadata": {
      "needs_background": "light"
     },
     "output_type": "display_data"
    }
   ],
   "source": [
    "# Histogram faceted by variable cost\n",
    "profit_histo = sns.FacetGrid(model_4_sim_results_df, col='var_cost', sharey=True, col_wrap=3)\n",
    "profit_histo = profit_histo.map(plt.hist, \"profit\")"
   ]
  },
  {
   "cell_type": "markdown",
   "metadata": {},
   "source": [
    "Not surprisingly as the variable costs rise the likelihood of making a profit falls"
   ]
  },
  {
   "cell_type": "code",
   "execution_count": 94,
   "metadata": {},
   "outputs": [
    {
     "data": {
      "image/png": "[encoded data removed]",
      "text/plain": [
       "<Figure size 648x864 with 11 Axes>"
      ]
     },
     "metadata": {
      "needs_background": "light"
     },
     "output_type": "display_data"
    }
   ],
   "source": [
    "# Histogram faceted by selling price\n",
    "profit_histo = sns.FacetGrid(model_4_sim_results_df, col='selling_price', sharey=True, col_wrap=3)\n",
    "profit_histo = profit_histo.map(plt.hist, \"profit\")"
   ]
  },
  {
   "cell_type": "markdown",
   "metadata": {
    "tags": []
   },
   "source": [
    "... and also as expected the likelihood of making a profit increases with selling price... to a point, at which time demand decreases and profit along with it"
   ]
  },
  {
   "cell_type": "code",
   "execution_count": 96,
   "metadata": {},
   "outputs": [
    {
     "data": {
      "image/png": "[encoded data removed]",
      "text/plain": [
       "<Figure size 432x288 with 1 Axes>"
      ]
     },
     "metadata": {
      "needs_background": "light"
     },
     "output_type": "display_data"
    }
   ],
   "source": [
    "# Histogram showing only profit\n",
    "sns.histplot(model_4_sim_results_df, x=\"profit\", kde=True)\n",
    "plt.show()"
   ]
  },
  {
   "cell_type": "markdown",
   "metadata": {},
   "source": [
    "### What is the probability that profit is negative based on our simulation?"
   ]
  },
  {
   "cell_type": "code",
   "execution_count": 98,
   "metadata": {},
   "outputs": [],
   "source": [
    "from scipy import stats"
   ]
  },
  {
   "cell_type": "code",
   "execution_count": 102,
   "metadata": {},
   "outputs": [
    {
     "name": "stdout",
     "output_type": "stream",
     "text": [
      "0.6368181818181818\n"
     ]
    }
   ],
   "source": [
    "# Probability that profit is negative\n",
    "\n",
    "print(stats.percentileofscore(model_4_sim_results_df.profit, 0) / 100.0)"
   ]
  },
  {
   "cell_type": "markdown",
   "metadata": {
    "tags": []
   },
   "source": [
    "The probability of profit being less than zero, allowing for a random spf exponent (within the range of -1.6 to -2.0), and also allowing for various scenarios with regard to the selling price and variable costs is 63.68\\%\n",
    "\n",
    "Yikes!"
   ]
  },
  {
   "cell_type": "markdown",
   "metadata": {},
   "source": [
    "# Analysis 2 – Extended Break Even Analysis"
   ]
  },
  {
   "cell_type": "markdown",
   "metadata": {},
   "source": [
    "## Capacity Issues\n",
    "Create a new model class to take the following complication into account. \n",
    "\n",
    "If PredictedDemand (from the SPF) is greater than 1000 but less than or equal to 1200 we have to use overtime to be able to meet demand. In this case, we decide to model this by increasing the unit production cost from \\\\$90 to \\\\$110 for all units of demand above 1000 and less than or equal to 1200. So, if demand is equal to 1050, we pay \\\\$90 unit production cost on the first 1000 units and pay \\\\$110 on the last 50 units. If demand is greater than 1200, we can only satisfy demand for 1200 units and we simply lose all the demand above that. Of course, we have to pay the overtime costs for all those above 1000 and less than or equal to 1200, as just described"
   ]
  },
  {
   "cell_type": "markdown",
   "metadata": {},
   "source": [
    "Here’s the class declaration for my extended model:"
   ]
  },
  {
   "cell_type": "code",
   "execution_count": null,
   "metadata": {},
   "outputs": [],
   "source": [
    "class SingleProductSPF_extended(Model):\n",
    "    def __init__(self, fixed_cost, var_cost, selling_price,\n",
    "                spf_scale, spf_exponent, ot_threshold, ot_var_cost, lost_demand_threshold):\n",
    "        self.fixed_cost = fixed_cost\n",
    "        self.var_cost = var_cost\n",
    "        self.selling_price = selling_price\n",
    "        self.spf_scale = spf_scale\n",
    "        self.spf_exponent = spf_exponent\n",
    "        self.ot_threshold = ot_threshold\n",
    "        self.ot_var_cost = ot_var_cost\n",
    "        self.lost_demand_threshold = lost_demand_threshold\n",
    "        \n",
    "    def demand(self):\n",
    "        \"\"\"Compute demand\"\"\"\n",
    "        return self.spf_scale * (self.selling_price ** self.spf_exponent)\n",
    "    \n",
    "    def revenue(self):\n",
    "        \"\"\"Compute revenue\"\"\"\n",
    "        return self.demand() * self.selling_price\n",
    "    \n",
    "    def costs(self):\n",
    "        \"\"\"Compute total of fixed and variable costs\"\"\"\n",
    "        return (self.demand() * self.var_cost) + self.fixed_cost   \n",
    "    \n",
    "    def profit(self):\n",
    "        \"\"\"Compute profit\"\"\"\n",
    "        return self.revenue() - self.costs()\n",
    "    \n",
    "    def __str__(self):\n",
    "        \"\"\"\n",
    "        String representation of SingleProductSPF's inputs\n",
    "        \"\"\"\n",
    "        return str(vars(self))"
   ]
  }
 ],
 "metadata": {
  "kernelspec": {
   "display_name": "Python 3",
   "language": "python",
   "name": "python3"
  },
  "language_info": {
   "codemirror_mode": {
    "name": "ipython",
    "version": 3
   },
   "file_extension": ".py",
   "mimetype": "text/x-python",
   "name": "python",
   "nbconvert_exporter": "python",
   "pygments_lexer": "ipython3",
   "version": "3.7.10"
  },
  "toc-autonumbering": true
 },
 "nbformat": 4,
 "nbformat_minor": 4
}
