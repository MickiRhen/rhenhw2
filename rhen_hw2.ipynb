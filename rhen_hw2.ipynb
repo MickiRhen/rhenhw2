{
 "cells": [
  {
   "cell_type": "markdown",
   "metadata": {
    "Collapsed": "false"
   },
   "source": [
    "## Homework 2\n",
    "\n",
    "Using Python for Excel type tasks"
   ]
  },
  {
   "cell_type": "markdown",
   "metadata": {
    "Collapsed": "false"
   },
   "source": [
    "## Import some libraries"
   ]
  },
  {
   "cell_type": "code",
   "execution_count": 62,
   "metadata": {
    "Collapsed": "false"
   },
   "outputs": [
    {
     "name": "stdout",
     "output_type": "stream",
     "text": [
      "The autoreload extension is already loaded. To reload it, use:\n",
      "  %reload_ext autoreload\n"
     ]
    }
   ],
   "source": [
    "# To auto-reload modules in jupyter notebook (so that changes in files *.py doesn't require manual reloading):\n",
    "# https://stackoverflow.com/questions/5364050/reloading-submodules-in-ipython\n",
    "%load_ext autoreload\n",
    "%autoreload 2"
   ]
  },
  {
   "cell_type": "markdown",
   "metadata": {
    "Collapsed": "false"
   },
   "source": [
    "Import commonly used libraries and magic command for inline plotting"
   ]
  },
  {
   "cell_type": "code",
   "execution_count": 63,
   "metadata": {
    "Collapsed": "false"
   },
   "outputs": [],
   "source": [
    "import copy\n",
    "\n",
    "import numpy as np\n",
    "import pandas as pd\n",
    "import matplotlib.pyplot as plt\n",
    "from mpl_toolkits.mplot3d import Axes3D\n",
    "import seaborn as sns\n"
   ]
  },
  {
   "cell_type": "code",
   "execution_count": 64,
   "metadata": {
    "tags": []
   },
   "outputs": [],
   "source": [
    "%matplotlib inline"
   ]
  },
  {
   "cell_type": "markdown",
   "metadata": {},
   "source": [
    "Now I am going to import 'Model' and 'get_sim_results_df' from the provided whatif.py file"
   ]
  },
  {
   "cell_type": "code",
   "execution_count": 65,
   "metadata": {},
   "outputs": [],
   "source": [
    "from whatif import Model\n",
    "from whatif import get_sim_results_df"
   ]
  },
  {
   "cell_type": "markdown",
   "metadata": {
    "Collapsed": "false"
   },
   "source": [
    "# Analysis 1 – Basic Break Even Analysis\n",
    "\n",
    "The owner of a relatively small business is trying to determine the breakeven level of sales of the company’s single product.  The fixed cost of manufacturing this product each month is 60,000.00.  The variable cost of producing this product is 90 per unit.  The current selling price is 120.  Using historical data on selling price and monthly demand, the owner fit the following function relating demand and selling price:\n",
    "\n",
    "Selling Price Function (SPF)\n",
    "D=10,000,000S^(-1.8)\n",
    "\n",
    "where D is the monthly demand for the product and S is the selling price.  The form of this function is called a power function. So, if we increase our selling price, we believe demand will decrease. Similarly, a decrease in selling price suggests an increase in demand. Let’s call this equation the Selling Price Function (or SPF, for short).\n",
    "\n"
   ]
  },
  {
   "cell_type": "markdown",
   "metadata": {
    "Collapsed": "false"
   },
   "source": [
    "## Base Model\n",
    "Create a Python based model to that relates profit to the inputs. It must be an object oriented model. Here's the start of our class definition code:"
   ]
  },
  {
   "cell_type": "markdown",
   "metadata": {},
   "source": [
    "Based on the initial information given above, our variables can be defined as follows:"
   ]
  },
  {
   "cell_type": "code",
   "execution_count": 67,
   "metadata": {
    "tags": []
   },
   "outputs": [],
   "source": [
    "# Set the base inputs\n",
    "fixed_cost = 60000\n",
    "var_cost = 90\n",
    "selling_price = 120\n",
    "spf_scale = 10000000\n",
    "spf_exponent = -1.8"
   ]
  },
  {
   "cell_type": "markdown",
   "metadata": {},
   "source": [
    "Here's the start of our class definition code:"
   ]
  },
  {
   "cell_type": "code",
   "execution_count": 68,
   "metadata": {},
   "outputs": [],
   "source": [
    "class SingleProductSPF(Model):\n",
    "    def __init__(self, fixed_cost, var_cost, selling_price,\n",
    "                spf_scale, spf_exponent):\n",
    "        self.fixed_cost = fixed_cost\n",
    "        self.var_cost = var_cost\n",
    "        self.selling_price = selling_price\n",
    "        self.spf_scale = spf_scale\n",
    "        self.spf_exponent = spf_exponent\n",
    "        "
   ]
  },
  {
   "cell_type": "code",
   "execution_count": 69,
   "metadata": {},
   "outputs": [],
   "source": [
    "# Create a new SingleProductSPFModel object\n",
    "model_1 = SingleProductSPF(fixed_cost, var_cost, selling_price, spf_scale, spf_exponent)"
   ]
  },
  {
   "cell_type": "markdown",
   "metadata": {},
   "source": [
    "Let's try printing out one of the model properties to make sure we are on track..."
   ]
  },
  {
   "cell_type": "code",
   "execution_count": 70,
   "metadata": {},
   "outputs": [
    {
     "name": "stdout",
     "output_type": "stream",
     "text": [
      "60000\n"
     ]
    }
   ],
   "source": [
    "print(model_1.fixed_cost)"
   ]
  },
  {
   "cell_type": "markdown",
   "metadata": {
    "tags": []
   },
   "source": [
    "So far, so good.  Now I am going to add some methods to my model that compute profit and demand"
   ]
  },
  {
   "cell_type": "code",
   "execution_count": 71,
   "metadata": {},
   "outputs": [],
   "source": [
    "class SingleProductSPF():\n",
    "    def __init__(self, fixed_cost, var_cost, selling_price,\n",
    "                spf_scale, spf_exponent):\n",
    "        self.fixed_cost = fixed_cost\n",
    "        self.var_cost = var_cost\n",
    "        self.selling_price = selling_price\n",
    "        self.spf_scale = spf_scale\n",
    "        self.spf_exponent = spf_exponent\n",
    "        \n",
    "    def demand(self):\n",
    "        \"\"\"Compute demand\"\"\"\n",
    "        return self.spf_scale * (self.selling_price ** self.spf_exponent)\n",
    "    \n",
    "    def revenue(self):\n",
    "        \"\"\"Compute revenue\"\"\"\n",
    "        return self.demand() * self.selling_price\n",
    "    \n",
    "    def costs(self):\n",
    "        \"\"\"Compute total of fixed and variable costs\"\"\"\n",
    "        return (self.demand() * self.var_cost) + self.fixed_cost   \n",
    "    \n",
    "    def profit(self):\n",
    "        \"\"\"Compute profit\"\"\"\n",
    "        return self.revenue() - self.costs()\n",
    "    \n",
    "    def __str__(self):\n",
    "        \"\"\"\n",
    "        String representation of SingleProductSPF's inputs\n",
    "        \"\"\"\n",
    "        return str(vars(self))\n",
    "\n",
    "        "
   ]
  },
  {
   "cell_type": "markdown",
   "metadata": {},
   "source": [
    "I'm going to create a new object instance based on the updated class definition."
   ]
  },
  {
   "cell_type": "code",
   "execution_count": 72,
   "metadata": {},
   "outputs": [],
   "source": [
    "model_2 = SingleProductSPF(fixed_cost, var_cost, selling_price, spf_scale, spf_exponent)"
   ]
  },
  {
   "cell_type": "code",
   "execution_count": 73,
   "metadata": {},
   "outputs": [
    {
     "name": "stdout",
     "output_type": "stream",
     "text": [
      "1809.146586595383\n",
      "-5725.602402138524\n"
     ]
    }
   ],
   "source": [
    "print(model_2.demand())\n",
    "print(model_2.profit())"
   ]
  },
  {
   "cell_type": "markdown",
   "metadata": {},
   "source": [
    "Ok, so far, so good.  Although I have to admit I was a little stumped by needing those ()'s for the methods and not for the properties.\n",
    "\n",
    "We can also remind ourself of the properties used with the following:"
   ]
  },
  {
   "cell_type": "code",
   "execution_count": 74,
   "metadata": {},
   "outputs": [
    {
     "name": "stdout",
     "output_type": "stream",
     "text": [
      "{'fixed_cost': 60000, 'var_cost': 90, 'selling_price': 120, 'spf_scale': 10000000, 'spf_exponent': -1.8}\n"
     ]
    }
   ],
   "source": [
    "print(model_2)"
   ]
  },
  {
   "cell_type": "markdown",
   "metadata": {},
   "source": [
    "## 1-Way Data Table\n",
    "Create a one-way data table using our data_table function to show how profit and demand are related to selling price."
   ]
  },
  {
   "cell_type": "markdown",
   "metadata": {},
   "source": [
    "Profit and demand are the outputs and selling price is the input. Let price range from 90 to 190 in steps of 10."
   ]
  },
  {
   "cell_type": "code",
   "execution_count": 76,
   "metadata": {},
   "outputs": [
    {
     "data": {
      "text/plain": [
       "array([ 90, 100, 110, 120, 130, 140, 150, 160, 170, 180, 190])"
      ]
     },
     "execution_count": 76,
     "metadata": {},
     "output_type": "execute_result"
    }
   ],
   "source": [
    "# Set property equal to an array\n",
    "model_2.selling_price = np.arange(90, 191, 10)\n",
    "model_2.selling_price"
   ]
  },
  {
   "cell_type": "markdown",
   "metadata": {},
   "source": [
    "We can compute an array of profits..."
   ]
  },
  {
   "cell_type": "code",
   "execution_count": 79,
   "metadata": {
    "tags": []
   },
   "outputs": [
    {
     "data": {
      "text/plain": [
       "array([-60000.        , -34881.1356849 , -17682.19213811,  -5725.60240214,\n",
       "         2655.89776817,   8539.28035168,  12641.86473138,  15453.96586116,\n",
       "        17318.23446585,  18478.73612485,  19112.2102885 ])"
      ]
     },
     "execution_count": 79,
     "metadata": {},
     "output_type": "execute_result"
    }
   ],
   "source": [
    "model_2.profit()"
   ]
  },
  {
   "cell_type": "markdown",
   "metadata": {
    "tags": []
   },
   "source": [
    "Now I will plot the relationship between profit and demand using seaborn"
   ]
  },
  {
   "cell_type": "code",
   "execution_count": 82,
   "metadata": {},
   "outputs": [
    {
     "data": {
      "image/png": "[encoded data removed]",
      "text/plain": [
       "<Figure size 432x288 with 1 Axes>"
      ]
     },
     "metadata": {
      "needs_background": "light"
     },
     "output_type": "display_data"
    }
   ],
   "source": [
    "x = model_2.selling_price\n",
    "y = model_2.profit()\n",
    "plt.plot(x, y)\n",
    "plt.xlabel('Selling Price')\n",
    "plt.ylabel('Profit')\n",
    "plt.hlines(0, left_bracket, right_bracket, linestyles='dotted')\n",
    "plt.show()"
   ]
  },
  {
   "cell_type": "code",
   "execution_count": null,
   "metadata": {},
   "outputs": [],
   "source": []
  }
 ],
 "metadata": {
  "kernelspec": {
   "display_name": "Python 3",
   "language": "python",
   "name": "python3"
  },
  "language_info": {
   "codemirror_mode": {
    "name": "ipython",
    "version": 3
   },
   "file_extension": ".py",
   "mimetype": "text/x-python",
   "name": "python",
   "nbconvert_exporter": "python",
   "pygments_lexer": "ipython3",
   "version": "3.7.10"
  },
  "toc-autonumbering": true
 },
 "nbformat": 4,
 "nbformat_minor": 4
}
